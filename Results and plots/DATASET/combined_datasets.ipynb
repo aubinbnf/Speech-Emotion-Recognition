{
 "cells": [
  {
   "cell_type": "code",
   "execution_count": 3,
   "metadata": {},
   "outputs": [],
   "source": [
    "import os\n",
    "import shutil"
   ]
  },
  {
   "cell_type": "code",
   "execution_count": 4,
   "metadata": {},
   "outputs": [
    {
     "name": "stdout",
     "output_type": "stream",
     "text": [
      "Réorganisation terminée. Les fichiers sont classés par émotion dans ../dataset/RAVDESS_organized\n"
     ]
    }
   ],
   "source": [
    "# Chemin vers le dossier du dataset RAVDESS\n",
    "ravdess_path = \"../dataset/RAVDESS\"  # Remplacez par le chemin correct\n",
    "output_path = \"../dataset/RAVDESS_organized\"  # Dossier pour les fichiers réorganisés\n",
    "\n",
    "# Création d'un mapping entre les codes des émotions et leurs noms\n",
    "emotion_mapping = {\n",
    "    \"01\": \"Neutral\",\n",
    "    \"02\": \"Calm\",\n",
    "    \"03\": \"Happiness\",\n",
    "    \"04\": \"Sadness\",\n",
    "    \"05\": \"Anger\",\n",
    "    \"06\": \"Fear\",\n",
    "    \"07\": \"Disgust\",\n",
    "    \"08\": \"Surprise\"\n",
    "}\n",
    "\n",
    "# Créer les dossiers cibles pour les émotions\n",
    "os.makedirs(output_path, exist_ok=True)\n",
    "for emotion in emotion_mapping.values():\n",
    "    os.makedirs(os.path.join(output_path, emotion), exist_ok=True)\n",
    "\n",
    "# Parcourir les fichiers dans chaque dossier d'acteur\n",
    "for actor_folder in os.listdir(ravdess_path):\n",
    "    actor_path = os.path.join(ravdess_path, actor_folder)\n",
    "    if os.path.isdir(actor_path):  # Vérifier que c'est un dossier\n",
    "        for file in os.listdir(actor_path):\n",
    "            if file.endswith(\".wav\"):\n",
    "                # Extraire le code de l'émotion à partir du nom du fichier\n",
    "                parts = file.split(\"-\")\n",
    "                emotion_code = parts[2]\n",
    "\n",
    "                # Vérifier si le code d'émotion est valide\n",
    "                emotion = emotion_mapping.get(emotion_code)\n",
    "                if emotion:\n",
    "                    # Déplacer le fichier dans le dossier correspondant à l'émotion\n",
    "                    source_path = os.path.join(actor_path, file)\n",
    "                    target_folder = os.path.join(output_path, emotion)\n",
    "                    shutil.move(source_path, os.path.join(target_folder, file))\n",
    "\n",
    "print(\"Réorganisation terminée. Les fichiers sont classés par émotion dans\", output_path)\n"
   ]
  },
  {
   "cell_type": "code",
   "execution_count": null,
   "metadata": {},
   "outputs": [],
   "source": []
  }
 ],
 "metadata": {
  "kernelspec": {
   "display_name": "Python 3",
   "language": "python",
   "name": "python3"
  },
  "language_info": {
   "codemirror_mode": {
    "name": "ipython",
    "version": 3
   },
   "file_extension": ".py",
   "mimetype": "text/x-python",
   "name": "python",
   "nbconvert_exporter": "python",
   "pygments_lexer": "ipython3",
   "version": "3.12.2"
  }
 },
 "nbformat": 4,
 "nbformat_minor": 2
}
