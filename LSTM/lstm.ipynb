{
  "cells": [
    {
      "cell_type": "code",
      "source": [
        "from google.colab import drive\n",
        "drive.mount('/content/drive')"
      ],
      "metadata": {
        "id": "JQX1Gk70dc9J",
        "outputId": "4e6a7153-293e-4a76-8bbc-98aefc3f2f02",
        "colab": {
          "base_uri": "https://localhost:8080/"
        }
      },
      "execution_count": 1,
      "outputs": [
        {
          "output_type": "stream",
          "name": "stdout",
          "text": [
            "Mounted at /content/drive\n"
          ]
        }
      ]
    },
    {
      "cell_type": "code",
      "execution_count": 2,
      "metadata": {
        "id": "08Geh90f-mHl"
      },
      "outputs": [],
      "source": [
        "import numpy as np\n",
        "import os\n",
        "from PIL import Image\n",
        "from sklearn.model_selection import train_test_split\n",
        "from tensorflow.keras.models import Sequential\n",
        "from tensorflow.keras.layers import LSTM, Dense, Dropout, Flatten, BatchNormalization\n",
        "from tensorflow.keras.optimizers import Adam\n",
        "from tensorflow.keras.utils import to_categorical\n",
        "import sys\n",
        "import matplotlib.pyplot as plt\n",
        "from sklearn.metrics import confusion_matrix, ConfusionMatrixDisplay\n",
        "import tensorflow as tf\n",
        "import random"
      ]
    },
    {
      "cell_type": "code",
      "execution_count": 3,
      "metadata": {
        "id": "3oy4y9pY-mHn"
      },
      "outputs": [],
      "source": [
        "spectrograms_dir = '/content/drive/MyDrive/Speech_Emotion_Recogntion/audio_representations'\n",
        "metrics_dir = '/content/drive/MyDrive/Speech_Emotion_Recogntion/metrics'"
      ]
    },
    {
      "cell_type": "code",
      "execution_count": 4,
      "metadata": {
        "colab": {
          "base_uri": "https://localhost:8080/"
        },
        "id": "7nesBBrz-mHn",
        "outputId": "93f0c7a7-7ba3-4d34-ef3d-85138bbde46d"
      },
      "outputs": [
        {
          "output_type": "stream",
          "name": "stdout",
          "text": [
            "Ensemble d'entraînement : (2002, 256, 256, 3), (2002, 7)\n",
            "Ensemble de validation : (429, 256, 256, 3), (429, 7)\n",
            "Ensemble de test : (429, 256, 256, 3), (429, 7)\n"
          ]
        }
      ],
      "source": [
        "images = []\n",
        "labels = []\n",
        "\n",
        "fraction = 1\n",
        "\n",
        "emotion_to_index = {\n",
        "    \"angry\": 0,\n",
        "    \"happy\": 1,\n",
        "    \"sad\": 2,\n",
        "    \"neutral\": 3,\n",
        "    \"fearful\": 4,\n",
        "    \"disgust\": 5,\n",
        "    \"surprise\": 6,\n",
        "}\n",
        "\n",
        "all_files = [file for file in os.listdir(spectrograms_dir) if file.endswith(\".png\")]\n",
        "selected_files = random.sample(all_files, int(len(all_files) * fraction))\n",
        "\n",
        "for file_name in selected_files:\n",
        "    file_path = os.path.join(spectrograms_dir, file_name)\n",
        "\n",
        "    img = Image.open(file_path).convert(\"RGB\")\n",
        "    img = img.resize((256, 256))\n",
        "    img_array = np.array(img)\n",
        "\n",
        "    images.append(img_array)\n",
        "\n",
        "    emotion = file_name.split(\"_\")[1]\n",
        "    label = emotion_to_index.get(emotion, -1)\n",
        "    if label == -1:\n",
        "        raise ValueError(f\"Émotion inconnue dans le fichier : {file_name}\")\n",
        "\n",
        "    labels.append(label)\n",
        "\n",
        "images = np.array(images)\n",
        "labels = np.array(labels)\n",
        "\n",
        "# Normalize\n",
        "images = images / 255.0\n",
        "\n",
        "# One-hot\n",
        "num_classes = len(emotion_to_index)\n",
        "labels_one_hot = to_categorical(labels, num_classes=num_classes)\n",
        "\n",
        "X_train, X_temp, y_train, y_temp = train_test_split(images, labels_one_hot, test_size=0.3, random_state=42)\n",
        "X_val, X_test, y_val, y_test = train_test_split(X_temp, y_temp, test_size=0.5, random_state=42)\n",
        "\n",
        "print(f\"Ensemble d'entraînement : {X_train.shape}, {y_train.shape}\")\n",
        "print(f\"Ensemble de validation : {X_val.shape}, {y_val.shape}\")\n",
        "print(f\"Ensemble de test : {X_test.shape}, {y_test.shape}\")"
      ]
    },
    {
      "cell_type": "code",
      "execution_count": 5,
      "metadata": {
        "id": "qxyXhz-_-mHo"
      },
      "outputs": [],
      "source": [
        "X_train_lstm = X_train.reshape(X_train.shape[0], X_train.shape[1], -1)  # 256, 256*3\n",
        "X_val_lstm = X_val.reshape(X_val.shape[0], X_val.shape[1], -1)  # 256, 256*3\n",
        "X_test_lstm = X_test.reshape(X_test.shape[0], X_test.shape[1], -1)  # 256, 256*3"
      ]
    },
    {
      "cell_type": "code",
      "execution_count": 6,
      "metadata": {
        "colab": {
          "base_uri": "https://localhost:8080/",
          "height": 408
        },
        "id": "ZnQi9bGz-mHo",
        "outputId": "c61e2825-a6e5-43a1-9c58-75050e878af9"
      },
      "outputs": [
        {
          "output_type": "stream",
          "name": "stderr",
          "text": [
            "/usr/local/lib/python3.10/dist-packages/keras/src/layers/normalization/batch_normalization.py:143: UserWarning: Do not pass an `input_shape`/`input_dim` argument to a layer. When using Sequential models, prefer using an `Input(shape)` object as the first layer in the model instead.\n",
            "  super().__init__(**kwargs)\n"
          ]
        },
        {
          "output_type": "display_data",
          "data": {
            "text/plain": [
              "\u001b[1mModel: \"sequential\"\u001b[0m\n"
            ],
            "text/html": [
              "<pre style=\"white-space:pre;overflow-x:auto;line-height:normal;font-family:Menlo,'DejaVu Sans Mono',consolas,'Courier New',monospace\"><span style=\"font-weight: bold\">Model: \"sequential\"</span>\n",
              "</pre>\n"
            ]
          },
          "metadata": {}
        },
        {
          "output_type": "display_data",
          "data": {
            "text/plain": [
              "┏━━━━━━━━━━━━━━━━━━━━━━━━━━━━━━━━━━━━━━┳━━━━━━━━━━━━━━━━━━━━━━━━━━━━━┳━━━━━━━━━━━━━━━━━┓\n",
              "┃\u001b[1m \u001b[0m\u001b[1mLayer (type)                        \u001b[0m\u001b[1m \u001b[0m┃\u001b[1m \u001b[0m\u001b[1mOutput Shape               \u001b[0m\u001b[1m \u001b[0m┃\u001b[1m \u001b[0m\u001b[1m        Param #\u001b[0m\u001b[1m \u001b[0m┃\n",
              "┡━━━━━━━━━━━━━━━━━━━━━━━━━━━━━━━━━━━━━━╇━━━━━━━━━━━━━━━━━━━━━━━━━━━━━╇━━━━━━━━━━━━━━━━━┩\n",
              "│ batch_normalization                  │ (\u001b[38;5;45mNone\u001b[0m, \u001b[38;5;34m256\u001b[0m, \u001b[38;5;34m768\u001b[0m)            │           \u001b[38;5;34m3,072\u001b[0m │\n",
              "│ (\u001b[38;5;33mBatchNormalization\u001b[0m)                 │                             │                 │\n",
              "├──────────────────────────────────────┼─────────────────────────────┼─────────────────┤\n",
              "│ lstm (\u001b[38;5;33mLSTM\u001b[0m)                          │ (\u001b[38;5;45mNone\u001b[0m, \u001b[38;5;34m256\u001b[0m, \u001b[38;5;34m128\u001b[0m)            │         \u001b[38;5;34m459,264\u001b[0m │\n",
              "├──────────────────────────────────────┼─────────────────────────────┼─────────────────┤\n",
              "│ lstm_1 (\u001b[38;5;33mLSTM\u001b[0m)                        │ (\u001b[38;5;45mNone\u001b[0m, \u001b[38;5;34m64\u001b[0m)                  │          \u001b[38;5;34m49,408\u001b[0m │\n",
              "├──────────────────────────────────────┼─────────────────────────────┼─────────────────┤\n",
              "│ dense (\u001b[38;5;33mDense\u001b[0m)                        │ (\u001b[38;5;45mNone\u001b[0m, \u001b[38;5;34m128\u001b[0m)                 │           \u001b[38;5;34m8,320\u001b[0m │\n",
              "├──────────────────────────────────────┼─────────────────────────────┼─────────────────┤\n",
              "│ dropout (\u001b[38;5;33mDropout\u001b[0m)                    │ (\u001b[38;5;45mNone\u001b[0m, \u001b[38;5;34m128\u001b[0m)                 │               \u001b[38;5;34m0\u001b[0m │\n",
              "├──────────────────────────────────────┼─────────────────────────────┼─────────────────┤\n",
              "│ dense_1 (\u001b[38;5;33mDense\u001b[0m)                      │ (\u001b[38;5;45mNone\u001b[0m, \u001b[38;5;34m7\u001b[0m)                   │             \u001b[38;5;34m903\u001b[0m │\n",
              "└──────────────────────────────────────┴─────────────────────────────┴─────────────────┘\n"
            ],
            "text/html": [
              "<pre style=\"white-space:pre;overflow-x:auto;line-height:normal;font-family:Menlo,'DejaVu Sans Mono',consolas,'Courier New',monospace\">┏━━━━━━━━━━━━━━━━━━━━━━━━━━━━━━━━━━━━━━┳━━━━━━━━━━━━━━━━━━━━━━━━━━━━━┳━━━━━━━━━━━━━━━━━┓\n",
              "┃<span style=\"font-weight: bold\"> Layer (type)                         </span>┃<span style=\"font-weight: bold\"> Output Shape                </span>┃<span style=\"font-weight: bold\">         Param # </span>┃\n",
              "┡━━━━━━━━━━━━━━━━━━━━━━━━━━━━━━━━━━━━━━╇━━━━━━━━━━━━━━━━━━━━━━━━━━━━━╇━━━━━━━━━━━━━━━━━┩\n",
              "│ batch_normalization                  │ (<span style=\"color: #00d7ff; text-decoration-color: #00d7ff\">None</span>, <span style=\"color: #00af00; text-decoration-color: #00af00\">256</span>, <span style=\"color: #00af00; text-decoration-color: #00af00\">768</span>)            │           <span style=\"color: #00af00; text-decoration-color: #00af00\">3,072</span> │\n",
              "│ (<span style=\"color: #0087ff; text-decoration-color: #0087ff\">BatchNormalization</span>)                 │                             │                 │\n",
              "├──────────────────────────────────────┼─────────────────────────────┼─────────────────┤\n",
              "│ lstm (<span style=\"color: #0087ff; text-decoration-color: #0087ff\">LSTM</span>)                          │ (<span style=\"color: #00d7ff; text-decoration-color: #00d7ff\">None</span>, <span style=\"color: #00af00; text-decoration-color: #00af00\">256</span>, <span style=\"color: #00af00; text-decoration-color: #00af00\">128</span>)            │         <span style=\"color: #00af00; text-decoration-color: #00af00\">459,264</span> │\n",
              "├──────────────────────────────────────┼─────────────────────────────┼─────────────────┤\n",
              "│ lstm_1 (<span style=\"color: #0087ff; text-decoration-color: #0087ff\">LSTM</span>)                        │ (<span style=\"color: #00d7ff; text-decoration-color: #00d7ff\">None</span>, <span style=\"color: #00af00; text-decoration-color: #00af00\">64</span>)                  │          <span style=\"color: #00af00; text-decoration-color: #00af00\">49,408</span> │\n",
              "├──────────────────────────────────────┼─────────────────────────────┼─────────────────┤\n",
              "│ dense (<span style=\"color: #0087ff; text-decoration-color: #0087ff\">Dense</span>)                        │ (<span style=\"color: #00d7ff; text-decoration-color: #00d7ff\">None</span>, <span style=\"color: #00af00; text-decoration-color: #00af00\">128</span>)                 │           <span style=\"color: #00af00; text-decoration-color: #00af00\">8,320</span> │\n",
              "├──────────────────────────────────────┼─────────────────────────────┼─────────────────┤\n",
              "│ dropout (<span style=\"color: #0087ff; text-decoration-color: #0087ff\">Dropout</span>)                    │ (<span style=\"color: #00d7ff; text-decoration-color: #00d7ff\">None</span>, <span style=\"color: #00af00; text-decoration-color: #00af00\">128</span>)                 │               <span style=\"color: #00af00; text-decoration-color: #00af00\">0</span> │\n",
              "├──────────────────────────────────────┼─────────────────────────────┼─────────────────┤\n",
              "│ dense_1 (<span style=\"color: #0087ff; text-decoration-color: #0087ff\">Dense</span>)                      │ (<span style=\"color: #00d7ff; text-decoration-color: #00d7ff\">None</span>, <span style=\"color: #00af00; text-decoration-color: #00af00\">7</span>)                   │             <span style=\"color: #00af00; text-decoration-color: #00af00\">903</span> │\n",
              "└──────────────────────────────────────┴─────────────────────────────┴─────────────────┘\n",
              "</pre>\n"
            ]
          },
          "metadata": {}
        },
        {
          "output_type": "display_data",
          "data": {
            "text/plain": [
              "\u001b[1m Total params: \u001b[0m\u001b[38;5;34m520,967\u001b[0m (1.99 MB)\n"
            ],
            "text/html": [
              "<pre style=\"white-space:pre;overflow-x:auto;line-height:normal;font-family:Menlo,'DejaVu Sans Mono',consolas,'Courier New',monospace\"><span style=\"font-weight: bold\"> Total params: </span><span style=\"color: #00af00; text-decoration-color: #00af00\">520,967</span> (1.99 MB)\n",
              "</pre>\n"
            ]
          },
          "metadata": {}
        },
        {
          "output_type": "display_data",
          "data": {
            "text/plain": [
              "\u001b[1m Trainable params: \u001b[0m\u001b[38;5;34m519,431\u001b[0m (1.98 MB)\n"
            ],
            "text/html": [
              "<pre style=\"white-space:pre;overflow-x:auto;line-height:normal;font-family:Menlo,'DejaVu Sans Mono',consolas,'Courier New',monospace\"><span style=\"font-weight: bold\"> Trainable params: </span><span style=\"color: #00af00; text-decoration-color: #00af00\">519,431</span> (1.98 MB)\n",
              "</pre>\n"
            ]
          },
          "metadata": {}
        },
        {
          "output_type": "display_data",
          "data": {
            "text/plain": [
              "\u001b[1m Non-trainable params: \u001b[0m\u001b[38;5;34m1,536\u001b[0m (6.00 KB)\n"
            ],
            "text/html": [
              "<pre style=\"white-space:pre;overflow-x:auto;line-height:normal;font-family:Menlo,'DejaVu Sans Mono',consolas,'Courier New',monospace\"><span style=\"font-weight: bold\"> Non-trainable params: </span><span style=\"color: #00af00; text-decoration-color: #00af00\">1,536</span> (6.00 KB)\n",
              "</pre>\n"
            ]
          },
          "metadata": {}
        }
      ],
      "source": [
        "def create_lstm_model(input_shape, num_classes):\n",
        "    model = Sequential()\n",
        "\n",
        "    # Normalisation des entrées\n",
        "    model.add(BatchNormalization(input_shape=input_shape))\n",
        "\n",
        "    # Première couche LSTM avec retour de séquences\n",
        "    model.add(LSTM(128, return_sequences=True, dropout=0.3, recurrent_dropout=0.2))\n",
        "\n",
        "    # Deuxième couche LSTM sans retour de séquences\n",
        "    model.add(LSTM(64, return_sequences=False, dropout=0.3, recurrent_dropout=0.2))\n",
        "\n",
        "    # Couche dense pour la classification\n",
        "    model.add(Dense(128, activation='relu'))\n",
        "    model.add(Dropout(0.4))  # Dropout pour éviter le surapprentissage\n",
        "\n",
        "    # Couche de sortie pour la classification multiclasse\n",
        "    model.add(Dense(num_classes, activation='softmax'))\n",
        "\n",
        "    # Compilation du modèle avec l'optimiseur Adam et la perte categorical crossentropy\n",
        "    model.compile(optimizer='adam', loss='categorical_crossentropy', metrics=['accuracy'])\n",
        "\n",
        "    return model\n",
        "\n",
        "input_shape = (256, 256 * 3)  # 256 timesteps, 256*3 caractéristiques (RGB)\n",
        "model = create_lstm_model(input_shape, num_classes)\n",
        "\n",
        "model.summary()\n"
      ]
    },
    {
      "cell_type": "code",
      "execution_count": 7,
      "metadata": {
        "colab": {
          "base_uri": "https://localhost:8080/"
        },
        "id": "EX79rW6_-mHp",
        "outputId": "1a933745-57f8-45e2-9445-dd810514b087"
      },
      "outputs": [
        {
          "output_type": "stream",
          "name": "stdout",
          "text": [
            "Epoch 1/20\n",
            "\u001b[1m63/63\u001b[0m \u001b[32m━━━━━━━━━━━━━━━━━━━━\u001b[0m\u001b[37m\u001b[0m \u001b[1m51s\u001b[0m 717ms/step - accuracy: 0.2217 - loss: 1.8852 - val_accuracy: 0.1818 - val_loss: 1.9853\n",
            "Epoch 2/20\n",
            "\u001b[1m63/63\u001b[0m \u001b[32m━━━━━━━━━━━━━━━━━━━━\u001b[0m\u001b[37m\u001b[0m \u001b[1m44s\u001b[0m 698ms/step - accuracy: 0.3553 - loss: 1.6846 - val_accuracy: 0.2424 - val_loss: 1.8374\n",
            "Epoch 3/20\n",
            "\u001b[1m63/63\u001b[0m \u001b[32m━━━━━━━━━━━━━━━━━━━━\u001b[0m\u001b[37m\u001b[0m \u001b[1m42s\u001b[0m 672ms/step - accuracy: 0.3906 - loss: 1.5865 - val_accuracy: 0.3473 - val_loss: 1.6535\n",
            "Epoch 4/20\n",
            "\u001b[1m63/63\u001b[0m \u001b[32m━━━━━━━━━━━━━━━━━━━━\u001b[0m\u001b[37m\u001b[0m \u001b[1m42s\u001b[0m 666ms/step - accuracy: 0.4498 - loss: 1.4592 - val_accuracy: 0.4079 - val_loss: 1.5737\n",
            "Epoch 5/20\n",
            "\u001b[1m63/63\u001b[0m \u001b[32m━━━━━━━━━━━━━━━━━━━━\u001b[0m\u001b[37m\u001b[0m \u001b[1m44s\u001b[0m 697ms/step - accuracy: 0.4644 - loss: 1.3984 - val_accuracy: 0.4476 - val_loss: 1.4724\n",
            "Epoch 6/20\n",
            "\u001b[1m63/63\u001b[0m \u001b[32m━━━━━━━━━━━━━━━━━━━━\u001b[0m\u001b[37m\u001b[0m \u001b[1m44s\u001b[0m 696ms/step - accuracy: 0.4942 - loss: 1.3398 - val_accuracy: 0.4359 - val_loss: 1.4377\n",
            "Epoch 7/20\n",
            "\u001b[1m63/63\u001b[0m \u001b[32m━━━━━━━━━━━━━━━━━━━━\u001b[0m\u001b[37m\u001b[0m \u001b[1m44s\u001b[0m 699ms/step - accuracy: 0.5186 - loss: 1.2845 - val_accuracy: 0.4592 - val_loss: 1.4337\n",
            "Epoch 8/20\n",
            "\u001b[1m63/63\u001b[0m \u001b[32m━━━━━━━━━━━━━━━━━━━━\u001b[0m\u001b[37m\u001b[0m \u001b[1m44s\u001b[0m 695ms/step - accuracy: 0.5284 - loss: 1.2227 - val_accuracy: 0.4452 - val_loss: 1.3786\n",
            "Epoch 9/20\n",
            "\u001b[1m63/63\u001b[0m \u001b[32m━━━━━━━━━━━━━━━━━━━━\u001b[0m\u001b[37m\u001b[0m \u001b[1m43s\u001b[0m 681ms/step - accuracy: 0.5079 - loss: 1.2505 - val_accuracy: 0.4755 - val_loss: 1.3453\n",
            "Epoch 10/20\n",
            "\u001b[1m63/63\u001b[0m \u001b[32m━━━━━━━━━━━━━━━━━━━━\u001b[0m\u001b[37m\u001b[0m \u001b[1m43s\u001b[0m 691ms/step - accuracy: 0.5556 - loss: 1.1772 - val_accuracy: 0.4895 - val_loss: 1.3223\n",
            "Epoch 11/20\n",
            "\u001b[1m63/63\u001b[0m \u001b[32m━━━━━━━━━━━━━━━━━━━━\u001b[0m\u001b[37m\u001b[0m \u001b[1m43s\u001b[0m 683ms/step - accuracy: 0.5537 - loss: 1.1702 - val_accuracy: 0.4545 - val_loss: 1.3751\n",
            "Epoch 12/20\n",
            "\u001b[1m63/63\u001b[0m \u001b[32m━━━━━━━━━━━━━━━━━━━━\u001b[0m\u001b[37m\u001b[0m \u001b[1m43s\u001b[0m 686ms/step - accuracy: 0.5699 - loss: 1.1328 - val_accuracy: 0.4685 - val_loss: 1.3058\n",
            "Epoch 13/20\n",
            "\u001b[1m63/63\u001b[0m \u001b[32m━━━━━━━━━━━━━━━━━━━━\u001b[0m\u001b[37m\u001b[0m \u001b[1m45s\u001b[0m 708ms/step - accuracy: 0.5670 - loss: 1.1125 - val_accuracy: 0.4942 - val_loss: 1.3104\n",
            "Epoch 14/20\n",
            "\u001b[1m63/63\u001b[0m \u001b[32m━━━━━━━━━━━━━━━━━━━━\u001b[0m\u001b[37m\u001b[0m \u001b[1m43s\u001b[0m 688ms/step - accuracy: 0.5865 - loss: 1.0983 - val_accuracy: 0.5058 - val_loss: 1.2871\n",
            "Epoch 15/20\n",
            "\u001b[1m63/63\u001b[0m \u001b[32m━━━━━━━━━━━━━━━━━━━━\u001b[0m\u001b[37m\u001b[0m \u001b[1m43s\u001b[0m 682ms/step - accuracy: 0.6041 - loss: 1.0556 - val_accuracy: 0.5175 - val_loss: 1.2704\n",
            "Epoch 16/20\n",
            "\u001b[1m63/63\u001b[0m \u001b[32m━━━━━━━━━━━━━━━━━━━━\u001b[0m\u001b[37m\u001b[0m \u001b[1m43s\u001b[0m 680ms/step - accuracy: 0.5948 - loss: 1.0525 - val_accuracy: 0.5035 - val_loss: 1.2978\n",
            "Epoch 17/20\n",
            "\u001b[1m63/63\u001b[0m \u001b[32m━━━━━━━━━━━━━━━━━━━━\u001b[0m\u001b[37m\u001b[0m \u001b[1m43s\u001b[0m 686ms/step - accuracy: 0.6013 - loss: 1.0741 - val_accuracy: 0.5035 - val_loss: 1.2920\n",
            "Epoch 18/20\n",
            "\u001b[1m63/63\u001b[0m \u001b[32m━━━━━━━━━━━━━━━━━━━━\u001b[0m\u001b[37m\u001b[0m \u001b[1m43s\u001b[0m 682ms/step - accuracy: 0.6078 - loss: 1.0471 - val_accuracy: 0.4918 - val_loss: 1.2849\n",
            "Epoch 19/20\n",
            "\u001b[1m63/63\u001b[0m \u001b[32m━━━━━━━━━━━━━━━━━━━━\u001b[0m\u001b[37m\u001b[0m \u001b[1m41s\u001b[0m 657ms/step - accuracy: 0.6265 - loss: 1.0046 - val_accuracy: 0.4779 - val_loss: 1.2734\n",
            "Epoch 20/20\n",
            "\u001b[1m63/63\u001b[0m \u001b[32m━━━━━━━━━━━━━━━━━━━━\u001b[0m\u001b[37m\u001b[0m \u001b[1m41s\u001b[0m 651ms/step - accuracy: 0.6366 - loss: 0.9435 - val_accuracy: 0.5058 - val_loss: 1.2737\n",
            "\u001b[1m14/14\u001b[0m \u001b[32m━━━━━━━━━━━━━━━━━━━━\u001b[0m\u001b[37m\u001b[0m \u001b[1m2s\u001b[0m 147ms/step - accuracy: 0.5073 - loss: 1.3914\n",
            "Loss on the test set: 1.3146392107009888\n",
            "Accuracy on the test set: 0.5314685106277466\n"
          ]
        }
      ],
      "source": [
        "history = model.fit(\n",
        "    X_train_lstm, y_train,\n",
        "    epochs=20,\n",
        "    batch_size=32,\n",
        "    validation_data=(X_val_lstm, y_val)\n",
        ")\n",
        "\n",
        "test_loss, test_accuracy = model.evaluate(X_test_lstm, y_test)\n",
        "print(f\"Loss on the test set: {test_loss}\")\n",
        "print(f\"Accuracy on the test set: {test_accuracy}\")"
      ]
    },
    {
      "cell_type": "code",
      "execution_count": 8,
      "metadata": {
        "id": "ckBv3jPg-mHp"
      },
      "outputs": [],
      "source": [
        "model_name = \"LSTM\"\n",
        "model_metrics_dir = os.path.join(metrics_dir, model_name)\n",
        "os.makedirs(model_metrics_dir, exist_ok=True)"
      ]
    },
    {
      "cell_type": "code",
      "execution_count": 9,
      "metadata": {
        "id": "KkoRZl5Y-mHp"
      },
      "outputs": [],
      "source": [
        "plt.figure(figsize=(6, 5))\n",
        "\n",
        "plt.plot(history.history['loss'], label='Training Loss')\n",
        "plt.plot(history.history['val_loss'], label='Validation Loss')\n",
        "plt.title(\"Loss Evolution\")\n",
        "plt.xlabel(\"Epochs\")\n",
        "plt.ylabel(\"Loss\")\n",
        "plt.legend()\n",
        "plt.savefig(os.path.join(model_metrics_dir, \"loss_curve.png\"))\n",
        "plt.close()\n",
        "\n",
        "plt.figure(figsize=(6, 5))\n",
        "plt.plot(history.history['accuracy'], label='Training Accuracy')\n",
        "plt.plot(history.history['val_accuracy'], label='Validation Accuracy')\n",
        "plt.title(\"Accuracy Evolution\")\n",
        "plt.xlabel(\"Epochs\")\n",
        "plt.ylabel(\"Accuracy\")\n",
        "plt.legend()\n",
        "plt.savefig(os.path.join(model_metrics_dir, \"accuracy_curve.png\"))\n",
        "plt.close()"
      ]
    },
    {
      "cell_type": "code",
      "execution_count": 11,
      "metadata": {
        "colab": {
          "base_uri": "https://localhost:8080/"
        },
        "id": "4cKvoxSy-mHp",
        "outputId": "8c0bf70b-24b4-4cef-9417-980947cc6b4c"
      },
      "outputs": [
        {
          "output_type": "stream",
          "name": "stdout",
          "text": [
            "\u001b[1m14/14\u001b[0m \u001b[32m━━━━━━━━━━━━━━━━━━━━\u001b[0m\u001b[37m\u001b[0m \u001b[1m3s\u001b[0m 188ms/step\n"
          ]
        }
      ],
      "source": [
        "emotion_labels = [\n",
        "    \"Angry\", \"Happy\", \"Sad\", \"Neutral\", \"Fearful\", \"Disgust\", \"Surprise\"\n",
        "]\n",
        "\n",
        "y_pred = model.predict(X_test_lstm)\n",
        "y_pred_labels = np.argmax(y_pred, axis=1)\n",
        "y_true_labels = np.argmax(y_test, axis=1)\n",
        "\n",
        "conf_matrix = confusion_matrix(y_true_labels, y_pred_labels)\n",
        "\n",
        "disp = ConfusionMatrixDisplay(\n",
        "    confusion_matrix=conf_matrix,\n",
        "    display_labels=emotion_labels\n",
        ")\n",
        "disp.plot(cmap=plt.cm.Blues, xticks_rotation=45)\n",
        "plt.title(\"Confusion Matrix CNN on Spectrograms\")\n",
        "\n",
        "conf_matrix_path = os.path.join(model_metrics_dir, \"confusion_matrix.png\")\n",
        "plt.savefig(conf_matrix_path)\n",
        "plt.close()"
      ]
    },
    {
      "cell_type": "code",
      "source": [
        "emotion_counts = {emotion: 0 for emotion in emotion_to_index.keys()}\n",
        "for label in labels:\n",
        "    emotion_name = list(emotion_to_index.keys())[list(emotion_to_index.values()).index(label)]\n",
        "    emotion_counts[emotion_name] += 1\n",
        "\n",
        "emotions = list(emotion_counts.keys())\n",
        "counts = list(emotion_counts.values())\n",
        "\n",
        "plt.figure(figsize=(10, 6))\n",
        "plt.bar(emotions, counts, color='skyblue', edgecolor='black')\n",
        "plt.title(\"Répartition des émotions sélectionnées\", fontsize=16)\n",
        "plt.xlabel(\"Émotions\", fontsize=14)\n",
        "plt.ylabel(\"Nombre d'instances\", fontsize=14)\n",
        "plt.xticks(rotation=45, fontsize=12)\n",
        "plt.yticks(fontsize=12)\n",
        "\n",
        "for i, count in enumerate(counts):\n",
        "    plt.text(i, count + 0.5, str(count), ha='center', fontsize=12)\n",
        "\n",
        "plt.tight_layout()\n",
        "plt.show()"
      ],
      "metadata": {
        "id": "hGB5JITaeYWl",
        "outputId": "2e82cd6b-587b-40c6-8cd4-a529fc9fcee1",
        "colab": {
          "base_uri": "https://localhost:8080/",
          "height": 607
        }
      },
      "execution_count": 12,
      "outputs": [
        {
          "output_type": "display_data",
          "data": {
            "text/plain": [
              "<Figure size 1000x600 with 1 Axes>"
            ],
            "image/png": "[encoded data removed]"
          },
          "metadata": {}
        }
      ]
    }
  ],
  "metadata": {
    "kernelspec": {
      "display_name": "Python 3",
      "name": "python3"
    },
    "language_info": {
      "codemirror_mode": {
        "name": "ipython",
        "version": 3
      },
      "file_extension": ".py",
      "mimetype": "text/x-python",
      "name": "python",
      "nbconvert_exporter": "python",
      "pygments_lexer": "ipython3",
      "version": "3.12.2"
    },
    "colab": {
      "provenance": [],
      "machine_shape": "hm",
      "gpuType": "T4"
    },
    "accelerator": "GPU"
  },
  "nbformat": 4,
  "nbformat_minor": 0
}