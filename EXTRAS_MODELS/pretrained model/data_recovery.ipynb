{
 "cells": [
  {
   "cell_type": "code",
   "execution_count": 11,
   "metadata": {},
   "outputs": [],
   "source": [
    "import pandas as pd\n",
    "from pathlib import Path\n",
    "from tqdm import tqdm\n",
    "import torchaudio\n",
    "from sklearn.model_selection import train_test_split\n",
    "import os\n",
    "import matplotlib.pyplot as plt\n",
    "import seaborn as sns"
   ]
  },
  {
   "cell_type": "markdown",
   "metadata": {},
   "source": [
    "# Data Recovery"
   ]
  },
  {
   "cell_type": "code",
   "execution_count": 12,
   "metadata": {},
   "outputs": [
    {
     "name": "stderr",
     "output_type": "stream",
     "text": [
      "1440it [00:04, 296.56it/s]\n"
     ]
    }
   ],
   "source": [
    "emotion_mapping = {\n",
    "    \"01\": \"neutral\",\n",
    "    \"02\": \"calm\",\n",
    "    \"03\": \"happy\",\n",
    "    \"04\": \"sad\",\n",
    "    \"05\": \"angry\",\n",
    "    \"06\": \"fearful\",\n",
    "    \"07\": \"disgust\",\n",
    "    \"08\": \"surprised\"\n",
    "}\n",
    "\n",
    "data = []\n",
    "\n",
    "dataset_path = Path(\"../../dataset\")\n",
    "\n",
    "for path in tqdm(dataset_path.glob(\"**/*.wav\")):\n",
    "    name = str(path).split('\\\\')[-1].split('.')[0]\n",
    "    label_code = name.split('-')[2]  # Emotional Code Extraction\n",
    "    emotion = emotion_mapping.get(label_code, \"unknown\")\n",
    "\n",
    "    try:\n",
    "        s = torchaudio.load(path)\n",
    "        # File added to \"data\" in dictionary format\n",
    "        data.append({\n",
    "            \"name\": name,\n",
    "            \"path\": str(path),\n",
    "            \"emotion\": emotion\n",
    "        })\n",
    "    except Exception as e:\n",
    "        pass\n"
   ]
  },
  {
   "cell_type": "code",
   "execution_count": 13,
   "metadata": {},
   "outputs": [
    {
     "data": {
      "text/html": [
       "<div>\n",
       "<style scoped>\n",
       "    .dataframe tbody tr th:only-of-type {\n",
       "        vertical-align: middle;\n",
       "    }\n",
       "\n",
       "    .dataframe tbody tr th {\n",
       "        vertical-align: top;\n",
       "    }\n",
       "\n",
       "    .dataframe thead th {\n",
       "        text-align: right;\n",
       "    }\n",
       "</style>\n",
       "<table border=\"1\" class=\"dataframe\">\n",
       "  <thead>\n",
       "    <tr style=\"text-align: right;\">\n",
       "      <th></th>\n",
       "      <th>name</th>\n",
       "      <th>path</th>\n",
       "      <th>emotion</th>\n",
       "    </tr>\n",
       "  </thead>\n",
       "  <tbody>\n",
       "    <tr>\n",
       "      <th>0</th>\n",
       "      <td>03-01-01-01-01-01-01</td>\n",
       "      <td>..\\..\\dataset\\Actor_01\\03-01-01-01-01-01-01.wav</td>\n",
       "      <td>neutral</td>\n",
       "    </tr>\n",
       "    <tr>\n",
       "      <th>1</th>\n",
       "      <td>03-01-01-01-01-02-01</td>\n",
       "      <td>..\\..\\dataset\\Actor_01\\03-01-01-01-01-02-01.wav</td>\n",
       "      <td>neutral</td>\n",
       "    </tr>\n",
       "    <tr>\n",
       "      <th>2</th>\n",
       "      <td>03-01-01-01-02-01-01</td>\n",
       "      <td>..\\..\\dataset\\Actor_01\\03-01-01-01-02-01-01.wav</td>\n",
       "      <td>neutral</td>\n",
       "    </tr>\n",
       "    <tr>\n",
       "      <th>3</th>\n",
       "      <td>03-01-01-01-02-02-01</td>\n",
       "      <td>..\\..\\dataset\\Actor_01\\03-01-01-01-02-02-01.wav</td>\n",
       "      <td>neutral</td>\n",
       "    </tr>\n",
       "    <tr>\n",
       "      <th>4</th>\n",
       "      <td>03-01-02-01-01-01-01</td>\n",
       "      <td>..\\..\\dataset\\Actor_01\\03-01-02-01-01-01-01.wav</td>\n",
       "      <td>calm</td>\n",
       "    </tr>\n",
       "  </tbody>\n",
       "</table>\n",
       "</div>"
      ],
      "text/plain": [
       "                   name                                             path  \\\n",
       "0  03-01-01-01-01-01-01  ..\\..\\dataset\\Actor_01\\03-01-01-01-01-01-01.wav   \n",
       "1  03-01-01-01-01-02-01  ..\\..\\dataset\\Actor_01\\03-01-01-01-01-02-01.wav   \n",
       "2  03-01-01-01-02-01-01  ..\\..\\dataset\\Actor_01\\03-01-01-01-02-01-01.wav   \n",
       "3  03-01-01-01-02-02-01  ..\\..\\dataset\\Actor_01\\03-01-01-01-02-02-01.wav   \n",
       "4  03-01-02-01-01-01-01  ..\\..\\dataset\\Actor_01\\03-01-02-01-01-01-01.wav   \n",
       "\n",
       "   emotion  \n",
       "0  neutral  \n",
       "1  neutral  \n",
       "2  neutral  \n",
       "3  neutral  \n",
       "4     calm  "
      ]
     },
     "execution_count": 13,
     "metadata": {},
     "output_type": "execute_result"
    }
   ],
   "source": [
    "df = pd.DataFrame(data)\n",
    "df.head()"
   ]
  },
  {
   "cell_type": "markdown",
   "metadata": {},
   "source": [
    "## Data cleaning and mixing"
   ]
  },
  {
   "cell_type": "code",
   "execution_count": 14,
   "metadata": {},
   "outputs": [
    {
     "name": "stdout",
     "output_type": "stream",
     "text": [
      "Number of audio files before cleaning: 1440\n",
      "Number of audio files after cleaning: 1440\n"
     ]
    },
    {
     "data": {
      "text/html": [
       "<div>\n",
       "<style scoped>\n",
       "    .dataframe tbody tr th:only-of-type {\n",
       "        vertical-align: middle;\n",
       "    }\n",
       "\n",
       "    .dataframe tbody tr th {\n",
       "        vertical-align: top;\n",
       "    }\n",
       "\n",
       "    .dataframe thead th {\n",
       "        text-align: right;\n",
       "    }\n",
       "</style>\n",
       "<table border=\"1\" class=\"dataframe\">\n",
       "  <thead>\n",
       "    <tr style=\"text-align: right;\">\n",
       "      <th></th>\n",
       "      <th>name</th>\n",
       "      <th>path</th>\n",
       "      <th>emotion</th>\n",
       "    </tr>\n",
       "  </thead>\n",
       "  <tbody>\n",
       "    <tr>\n",
       "      <th>0</th>\n",
       "      <td>03-01-03-01-01-01-13</td>\n",
       "      <td>..\\..\\dataset\\Actor_13\\03-01-03-01-01-01-13.wav</td>\n",
       "      <td>happy</td>\n",
       "    </tr>\n",
       "    <tr>\n",
       "      <th>1</th>\n",
       "      <td>03-01-06-02-01-01-15</td>\n",
       "      <td>..\\..\\dataset\\Actor_15\\03-01-06-02-01-01-15.wav</td>\n",
       "      <td>fearful</td>\n",
       "    </tr>\n",
       "    <tr>\n",
       "      <th>2</th>\n",
       "      <td>03-01-04-02-01-02-22</td>\n",
       "      <td>..\\..\\dataset\\Actor_22\\03-01-04-02-01-02-22.wav</td>\n",
       "      <td>sad</td>\n",
       "    </tr>\n",
       "    <tr>\n",
       "      <th>3</th>\n",
       "      <td>03-01-04-01-02-01-02</td>\n",
       "      <td>..\\..\\dataset\\Actor_02\\03-01-04-01-02-01-02.wav</td>\n",
       "      <td>sad</td>\n",
       "    </tr>\n",
       "    <tr>\n",
       "      <th>4</th>\n",
       "      <td>03-01-07-02-01-02-02</td>\n",
       "      <td>..\\..\\dataset\\Actor_02\\03-01-07-02-01-02-02.wav</td>\n",
       "      <td>disgust</td>\n",
       "    </tr>\n",
       "  </tbody>\n",
       "</table>\n",
       "</div>"
      ],
      "text/plain": [
       "                   name                                             path  \\\n",
       "0  03-01-03-01-01-01-13  ..\\..\\dataset\\Actor_13\\03-01-03-01-01-01-13.wav   \n",
       "1  03-01-06-02-01-01-15  ..\\..\\dataset\\Actor_15\\03-01-06-02-01-01-15.wav   \n",
       "2  03-01-04-02-01-02-22  ..\\..\\dataset\\Actor_22\\03-01-04-02-01-02-22.wav   \n",
       "3  03-01-04-01-02-01-02  ..\\..\\dataset\\Actor_02\\03-01-04-01-02-01-02.wav   \n",
       "4  03-01-07-02-01-02-02  ..\\..\\dataset\\Actor_02\\03-01-07-02-01-02-02.wav   \n",
       "\n",
       "   emotion  \n",
       "0    happy  \n",
       "1  fearful  \n",
       "2      sad  \n",
       "3      sad  \n",
       "4  disgust  "
      ]
     },
     "execution_count": 14,
     "metadata": {},
     "output_type": "execute_result"
    }
   ],
   "source": [
    "print(f\"Number of audio files before cleaning: {len(df)}\")\n",
    "\n",
    "df[\"status\"] = df[\"path\"].apply(lambda path: True if os.path.exists(path) else None)\n",
    "df = df.dropna(subset=[\"path\"])\n",
    "df = df.drop(\"status\", axis=1)\n",
    "\n",
    "print(f\"Number of audio files after cleaning: {len(df)}\")\n",
    "\n",
    "# Data mixing\n",
    "df = df.sample(frac=1)\n",
    "df = df.reset_index(drop=True)\n",
    "\n",
    "df.head()"
   ]
  },
  {
   "cell_type": "markdown",
   "metadata": {},
   "source": [
    "## Visualizing data distribution"
   ]
  },
  {
   "cell_type": "code",
   "execution_count": 15,
   "metadata": {},
   "outputs": [
    {
     "name": "stderr",
     "output_type": "stream",
     "text": [
      "C:\\Users\\aubin\\AppData\\Local\\Temp\\ipykernel_28984\\806197252.py:4: FutureWarning: \n",
      "\n",
      "Passing `palette` without assigning `hue` is deprecated and will be removed in v0.14.0. Assign the `x` variable to `hue` and set `legend=False` for the same effect.\n",
      "\n",
      "  sns.barplot(x=emotion_counts.index, y=emotion_counts.values, palette=\"viridis\")\n"
     ]
    },
    {
     "data": {
      "image/png": "[encoded data removed]",
      "text/plain": [
       "<Figure size 1000x600 with 1 Axes>"
      ]
     },
     "metadata": {},
     "output_type": "display_data"
    }
   ],
   "source": [
    "emotion_counts = df[\"emotion\"].value_counts()\n",
    "\n",
    "plt.figure(figsize=(10, 6))\n",
    "sns.barplot(x=emotion_counts.index, y=emotion_counts.values, palette=\"viridis\")\n",
    "\n",
    "plt.title(\"Number of files per emotion\", fontsize=16)\n",
    "plt.xlabel(\"Emotions\", fontsize=14)\n",
    "plt.ylabel(\"Number of files\", fontsize=14)\n",
    "\n",
    "plt.xticks(rotation=45, fontsize=12)\n",
    "plt.yticks(fontsize=12)\n",
    "\n",
    "for index, value in enumerate(emotion_counts.values):\n",
    "    plt.text(index, value + 5, str(value), ha='center', fontsize=11)\n",
    "\n",
    "plt.tight_layout()\n",
    "plt.show()\n"
   ]
  },
  {
   "cell_type": "markdown",
   "metadata": {},
   "source": [
    "## Split and save training and test sets"
   ]
  },
  {
   "cell_type": "code",
   "execution_count": 16,
   "metadata": {},
   "outputs": [
    {
     "name": "stdout",
     "output_type": "stream",
     "text": [
      "(1152, 3)\n",
      "(288, 3)\n"
     ]
    }
   ],
   "source": [
    "save_path = \"../../dataset_csv\"\n",
    "\n",
    "train_df, test_df = train_test_split(df, test_size=0.2, random_state=101, stratify=df[\"emotion\"])\n",
    "\n",
    "train_df = train_df.reset_index(drop=True)\n",
    "test_df = test_df.reset_index(drop=True)\n",
    "\n",
    "# Save\n",
    "train_df.to_csv(f\"{save_path}/train.csv\", sep=\"\\t\", encoding=\"utf-8\", index=False)\n",
    "test_df.to_csv(f\"{save_path}/test.csv\", sep=\"\\t\", encoding=\"utf-8\", index=False)\n",
    "\n",
    "print(train_df.shape)\n",
    "print(test_df.shape)"
   ]
  }
 ],
 "metadata": {
  "kernelspec": {
   "display_name": "Python 3",
   "language": "python",
   "name": "python3"
  },
  "language_info": {
   "codemirror_mode": {
    "name": "ipython",
    "version": 3
   },
   "file_extension": ".py",
   "mimetype": "text/x-python",
   "name": "python",
   "nbconvert_exporter": "python",
   "pygments_lexer": "ipython3",
   "version": "3.12.2"
  }
 },
 "nbformat": 4,
 "nbformat_minor": 2
}
